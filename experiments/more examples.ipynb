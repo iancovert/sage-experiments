{
 "cells": [
  {
   "cell_type": "markdown",
   "metadata": {},
   "source": [
    "# Bank"
   ]
  },
  {
   "cell_type": "code",
   "execution_count": null,
   "metadata": {},
   "outputs": [],
   "source": [
    "import sage\n",
    "import pickle\n",
    "import numpy as np\n",
    "import matplotlib.pyplot as plt"
   ]
  },
  {
   "cell_type": "code",
   "execution_count": null,
   "metadata": {},
   "outputs": [],
   "source": [
    "# Load data\n",
    "df = sage.datasets.bank()\n",
    "\n",
    "# Feature names and categorical columns (for CatBoost model)\n",
    "feature_names = df.columns.tolist()[:-1]\n",
    "categorical_cols = ['Job', 'Marital', 'Education', 'Default', 'Housing',\n",
    "                    'Loan', 'Contact', 'Month', 'Prev Outcome']\n",
    "categorical_inds = [feature_names.index(col) for col in categorical_cols]"
   ]
  },
  {
   "cell_type": "code",
   "execution_count": null,
   "metadata": {},
   "outputs": [],
   "source": [
    "sage_values = sage.load('results/bank_sage.pkl')"
   ]
  },
  {
   "cell_type": "code",
   "execution_count": null,
   "metadata": {},
   "outputs": [],
   "source": [
    "permutation = []\n",
    "for i in range(512):\n",
    "    filename = 'results/bank permutation_test {}.pkl'.format(i)\n",
    "    with open(filename, 'rb') as f:\n",
    "        permutation.append(pickle.load(f)['scores'])\n",
    "permutation = np.array(permutation).mean(axis=0)"
   ]
  },
  {
   "cell_type": "code",
   "execution_count": null,
   "metadata": {},
   "outputs": [],
   "source": [
    "with open('results/bank feature_ablation.pkl', 'rb') as f:\n",
    "    ablation = pickle.load(f)"
   ]
  },
  {
   "cell_type": "code",
   "execution_count": null,
   "metadata": {},
   "outputs": [],
   "source": [
    "with open('results/bank univariate.pkl', 'rb') as f:\n",
    "    univariate = pickle.load(f)"
   ]
  },
  {
   "cell_type": "code",
   "execution_count": null,
   "metadata": {},
   "outputs": [],
   "source": [
    "results = [sage_values, permutation, ablation, univariate]\n",
    "results_names = ['SAGE', 'Permutation Test', 'Feature Ablation', 'Univariate Predictors']"
   ]
  },
  {
   "cell_type": "code",
   "execution_count": null,
   "metadata": {},
   "outputs": [],
   "source": [
    "fig, axarr = plt.subplots(1, len(results), figsize=(16, 6))\n",
    "\n",
    "for i, (result, name) in enumerate(zip(results, results_names)):\n",
    "    ax = axarr[i]\n",
    "    plt.sca(ax)\n",
    "    if isinstance(result, np.ndarray):\n",
    "        # Regular values\n",
    "        values = result\n",
    "        plt.bar(np.arange(len(values)), values)\n",
    "    else:\n",
    "        # SAGE values\n",
    "        values = result.values\n",
    "        std = result.std\n",
    "        plt.bar(np.arange(len(values)), values, yerr=1.96*std, capsize=5)\n",
    "        \n",
    "    plt.title(name, fontsize=20)\n",
    "    plt.xticks(np.arange(len(values)), feature_names,\n",
    "               rotation=90, ha='center', fontsize=16)\n",
    "    plt.tick_params('y', labelsize=16)\n",
    "    \n",
    "    if i == 0:\n",
    "        plt.ylabel('SAGE Values', fontsize=18)\n",
    "\n",
    "plt.tight_layout()\n",
    "# plt.show()\n",
    "plt.savefig('figures/bank_sage.pdf')"
   ]
  },
  {
   "cell_type": "markdown",
   "metadata": {},
   "source": [
    "# Bike"
   ]
  },
  {
   "cell_type": "code",
   "execution_count": null,
   "metadata": {},
   "outputs": [],
   "source": [
    "import sage\n",
    "import pickle\n",
    "import numpy as np\n",
    "import matplotlib.pyplot as plt"
   ]
  },
  {
   "cell_type": "code",
   "execution_count": null,
   "metadata": {},
   "outputs": [],
   "source": [
    "# Load data\n",
    "df = sage.datasets.bike()\n",
    "feature_names = df.columns.tolist()[:-3]"
   ]
  },
  {
   "cell_type": "code",
   "execution_count": null,
   "metadata": {},
   "outputs": [],
   "source": [
    "sage_values = sage.load('results/bike_sage.pkl')"
   ]
  },
  {
   "cell_type": "code",
   "execution_count": null,
   "metadata": {},
   "outputs": [],
   "source": [
    "with open('results/bike mean_importance.pkl', 'rb') as f:\n",
    "    mean_imp = pickle.load(f)"
   ]
  },
  {
   "cell_type": "code",
   "execution_count": null,
   "metadata": {},
   "outputs": [],
   "source": [
    "permutation = []\n",
    "for i in range(512):\n",
    "    filename = 'results/bike permutation_test {}.pkl'.format(i)\n",
    "    with open(filename, 'rb') as f:\n",
    "        permutation.append(pickle.load(f)['scores'])\n",
    "permutation = np.array(permutation).mean(axis=0)"
   ]
  },
  {
   "cell_type": "code",
   "execution_count": null,
   "metadata": {},
   "outputs": [],
   "source": [
    "with open('results/bike feature_ablation.pkl', 'rb') as f:\n",
    "    ablation = pickle.load(f)"
   ]
  },
  {
   "cell_type": "code",
   "execution_count": null,
   "metadata": {},
   "outputs": [],
   "source": [
    "with open('results/bike univariate.pkl', 'rb') as f:\n",
    "    univariate = pickle.load(f)"
   ]
  },
  {
   "cell_type": "code",
   "execution_count": null,
   "metadata": {},
   "outputs": [],
   "source": [
    "results = [sage_values, permutation, mean_imp, ablation, univariate]\n",
    "results_names = ['SAGE', 'Permutation Test', 'Mean Importance', 'Feature Ablation', 'Univariate Predictors']"
   ]
  },
  {
   "cell_type": "code",
   "execution_count": null,
   "metadata": {},
   "outputs": [],
   "source": [
    "fig, axarr = plt.subplots(1, len(results), figsize=(16, 5))\n",
    "\n",
    "for i, (result, name) in enumerate(zip(results, results_names)):\n",
    "    ax = axarr[i]\n",
    "    plt.sca(ax)\n",
    "    if isinstance(result, np.ndarray):\n",
    "        # Regular values\n",
    "        values = result / 1000\n",
    "        plt.bar(np.arange(len(values)), values)\n",
    "    else:\n",
    "        # SAGE values\n",
    "        values = result.values / 1000\n",
    "        std = result.std / 1000\n",
    "        plt.bar(np.arange(len(values)), values, yerr=1.96*std, capsize=5)\n",
    "        \n",
    "    plt.title(name, fontsize=20)\n",
    "    plt.xticks(np.arange(len(values)), feature_names,\n",
    "               rotation=90, ha='center', fontsize=16)\n",
    "    plt.tick_params('y', labelsize=16)\n",
    "    \n",
    "    if i == 0:\n",
    "        plt.ylabel(r'SAGE Values ($\\times$1000)', fontsize=18)\n",
    "\n",
    "plt.tight_layout()\n",
    "# plt.show()\n",
    "plt.savefig('figures/bike_sage.pdf')"
   ]
  },
  {
   "cell_type": "markdown",
   "metadata": {},
   "source": [
    "# Credit"
   ]
  },
  {
   "cell_type": "code",
   "execution_count": null,
   "metadata": {},
   "outputs": [],
   "source": [
    "import sage\n",
    "import pickle\n",
    "import numpy as np\n",
    "import matplotlib.pyplot as plt"
   ]
  },
  {
   "cell_type": "code",
   "execution_count": null,
   "metadata": {},
   "outputs": [],
   "source": [
    "# Load data\n",
    "df = sage.datasets.credit()\n",
    "\n",
    "# Feature names and categorical columns (for CatBoost model)\n",
    "feature_names = df.columns.tolist()[:-1]\n",
    "categorical_columns = [\n",
    "    'Checking Status', 'Credit History', 'Purpose', 'Credit Amount',\n",
    "    'Savings Account/Bonds', 'Employment Since', 'Personal Status',\n",
    "    'Debtors/Guarantors', 'Property Type', 'Other Installment Plans',\n",
    "    'Housing Ownership', 'Job', 'Telephone', 'Foreign Worker'\n",
    "]\n",
    "categorical_inds = [feature_names.index(col) for col in categorical_columns]"
   ]
  },
  {
   "cell_type": "code",
   "execution_count": null,
   "metadata": {},
   "outputs": [],
   "source": [
    "sage_values = sage.load('results/credit_sage.pkl')"
   ]
  },
  {
   "cell_type": "code",
   "execution_count": null,
   "metadata": {},
   "outputs": [],
   "source": [
    "permutation = []\n",
    "for i in range(512):\n",
    "    filename = 'results/credit permutation_test {}.pkl'.format(i)\n",
    "    with open(filename, 'rb') as f:\n",
    "        permutation.append(pickle.load(f)['scores'])\n",
    "permutation = np.array(permutation).mean(axis=0)"
   ]
  },
  {
   "cell_type": "code",
   "execution_count": null,
   "metadata": {},
   "outputs": [],
   "source": [
    "with open('results/credit feature_ablation.pkl', 'rb') as f:\n",
    "    ablation = pickle.load(f)"
   ]
  },
  {
   "cell_type": "code",
   "execution_count": null,
   "metadata": {},
   "outputs": [],
   "source": [
    "with open('results/credit univariate.pkl', 'rb') as f:\n",
    "    univariate = pickle.load(f)"
   ]
  },
  {
   "cell_type": "code",
   "execution_count": null,
   "metadata": {},
   "outputs": [],
   "source": [
    "results = [sage_values, permutation, ablation, univariate]\n",
    "results_names = ['SAGE', 'Permutation Test', 'Feature Ablation', 'Univariate Predictors']"
   ]
  },
  {
   "cell_type": "code",
   "execution_count": null,
   "metadata": {},
   "outputs": [],
   "source": [
    "fig, axarr = plt.subplots(1, len(results), figsize=(16, 6.5))\n",
    "\n",
    "for i, (result, name) in enumerate(zip(results, results_names)):\n",
    "    ax = axarr[i]\n",
    "    plt.sca(ax)\n",
    "    if isinstance(result, np.ndarray):\n",
    "        # Regular values\n",
    "        values = result\n",
    "        plt.bar(np.arange(len(values)), values)\n",
    "    else:\n",
    "        # SAGE values\n",
    "        values = result.values\n",
    "        std = result.std\n",
    "        plt.bar(np.arange(len(values)), values, yerr=1.96*std, capsize=5)\n",
    "        \n",
    "    plt.title(name, fontsize=20)\n",
    "    plt.xticks(np.arange(len(values)), feature_names,\n",
    "               rotation=90, ha='center', fontsize=14)\n",
    "    plt.tick_params('y', labelsize=16)\n",
    "    \n",
    "    if i == 0:\n",
    "        plt.ylabel('SAGE Values', fontsize=18)\n",
    "\n",
    "plt.tight_layout()\n",
    "# plt.show()\n",
    "plt.savefig('figures/credit_sage.pdf')"
   ]
  },
  {
   "cell_type": "code",
   "execution_count": null,
   "metadata": {},
   "outputs": [],
   "source": []
  }
 ],
 "metadata": {
  "kernelspec": {
   "display_name": "Python 3",
   "language": "python",
   "name": "python3"
  },
  "language_info": {
   "codemirror_mode": {
    "name": "ipython",
    "version": 3
   },
   "file_extension": ".py",
   "mimetype": "text/x-python",
   "name": "python",
   "nbconvert_exporter": "python",
   "pygments_lexer": "ipython3",
   "version": "3.6.8"
  }
 },
 "nbformat": 4,
 "nbformat_minor": 4
}
