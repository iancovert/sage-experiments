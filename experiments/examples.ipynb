{
 "cells": [
  {
   "cell_type": "markdown",
   "metadata": {},
   "source": [
    "# BRCA"
   ]
  },
  {
   "cell_type": "code",
   "execution_count": null,
   "metadata": {},
   "outputs": [],
   "source": [
    "import sage\n",
    "import numpy as np\n",
    "import matplotlib.pyplot as plt"
   ]
  },
  {
   "cell_type": "code",
   "execution_count": null,
   "metadata": {},
   "outputs": [],
   "source": [
    "brca_sage = sage.load('results/brca_sage.pkl')"
   ]
  },
  {
   "cell_type": "code",
   "execution_count": null,
   "metadata": {},
   "outputs": [],
   "source": [
    "gene_names = [\n",
    "    'BCL11A', 'IGF1R', 'CCND1', 'CDK6', 'BRCA1', 'BRCA2', 'EZH2', 'SFTPD',\n",
    "    'CDC5L', 'ADMR', 'TSPAN2', 'EIF5B', 'ADRA2C', 'MRCL3', 'CCDC69', 'ADCY4',\n",
    "    'TEX14', 'RRM2B', 'SLC22A5', 'HRH1', 'SLC25A1', 'CEBPE', 'IWS1', 'FLJ10213',\n",
    "    'PSMD10', 'MARCH6', 'PDLIM4', 'SNTB1', 'CHCHD1', 'SCMH1', 'FLJ20489',\n",
    "    'MDP-1', 'FLJ30092', 'YTHDC2', 'LFNG', 'HOXD10', 'RPS6KA5', 'WDR40B',\n",
    "    'CST9L', 'ISLR', 'TMBIM1', 'TRABD', 'ARHGAP29', 'C15orf29', 'SCAMP4',\n",
    "    'TTC31', 'ZNF570', 'RAB42', 'SERPINI2', 'C9orf21'\n",
    "]\n",
    "\n",
    "brca_colors = {\n",
    "    'BCL11A': True,\n",
    "    'IGF1R': True,\n",
    "    'CCND1': True,\n",
    "    'CDK6': True,\n",
    "    'BRCA1': True,\n",
    "    'BRCA2': True,\n",
    "    'EZH2': True,\n",
    "    'SFTPD': False,\n",
    "    'CDC5L': False,\n",
    "    'ADMR': False,\n",
    "    'TSPAN2': False,\n",
    "    'EIF5B': False,\n",
    "    'ADRA2C': False,\n",
    "    'MRCL3': False,\n",
    "    'CCDC69': False,\n",
    "    'ADCY4': False,  # True\n",
    "    'TEX14': True,  # False\n",
    "    'RRM2B': False,\n",
    "    'SLC22A5': True, # https://www.ncbi.nlm.nih.gov/pmc/articles/PMC3416040/\n",
    "    'HRH1': False,  # True\n",
    "    'SLC25A1': False, # Associated with tumor growth http://www.oncotarget.com/index.php?journal=oncotarget&page=article&op=view&path[]=1831&path[]=2259\n",
    "    'CEBPE': False,  # True\n",
    "    'IWS1': False,\n",
    "    'FLJ10213': False,\n",
    "    'PSMD10': False,  # True\n",
    "    'MARCH6': False,\n",
    "    'PDLIM4': False,\n",
    "    'SNTB1': False,\n",
    "    'CHCHD1': False,\n",
    "    'SCMH1': False,\n",
    "    'FLJ20489': False,\n",
    "    'MDP-1': False,\n",
    "    'FLJ30092': False,  # True\n",
    "    'YTHDC2': False,\n",
    "    'LFNG': True,  # False, https://www.sciencedirect.com/science/article/pii/S1535610812001341\n",
    "    'HOXD10': False,  # True\n",
    "    'RPS6KA5': False,\n",
    "    'WDR40B': False,\n",
    "    'CST9L': False,\n",
    "    'ISLR': False,\n",
    "    'TMBIM1': False,\n",
    "    'TRABD': False,\n",
    "    'ARHGAP29': False,  # True\n",
    "    'C15orf29': False,\n",
    "    'SCAMP4': False,\n",
    "    'TTC31': False,\n",
    "    'ZNF570': False,\n",
    "    'RAB42': False,\n",
    "    'SERPINI2': False,\n",
    "    'C9orf21': False, \n",
    "}"
   ]
  },
  {
   "cell_type": "code",
   "execution_count": null,
   "metadata": {},
   "outputs": [],
   "source": [
    "plt.figure(figsize=(16, 5))\n",
    "\n",
    "values = brca_sage.values\n",
    "order = np.argsort(values)[::-1]\n",
    "values = values[order]\n",
    "std = brca_sage.std[order]\n",
    "brca_associated = np.array([brca_colors[gene] for gene in np.array(gene_names)[order]])\n",
    "\n",
    "# BRCA associated\n",
    "plt.bar(np.arange(len(values))[brca_associated],\n",
    "        values[brca_associated],\n",
    "        yerr=1.96*std[brca_associated],\n",
    "        capsize=5, color='orchid', label='BRCA Associated')\n",
    "\n",
    "# Not BRCA associated\n",
    "plt.bar(np.arange(len(values))[np.logical_not(brca_associated)],\n",
    "        values[np.logical_not(brca_associated)],\n",
    "        yerr=1.96*std[np.logical_not(brca_associated)],\n",
    "        capsize=5, color='tab:blue', label='Not BRCA Associated')\n",
    "plt.xticks(np.arange(len(values)), np.array(gene_names)[order], fontsize=14,\n",
    "           rotation=45, rotation_mode='anchor', ha='right')\n",
    "\n",
    "plt.legend(loc='upper right', fontsize=18)\n",
    "plt.title('Breast Cancer Gene Identification', fontsize=20)\n",
    "plt.ylabel('SAGE Values', fontsize=18)\n",
    "plt.tick_params('y', labelsize=16)\n",
    "plt.tight_layout()\n",
    "# plt.show()\n",
    "plt.savefig('figures/brca_sage.pdf')"
   ]
  },
  {
   "cell_type": "markdown",
   "metadata": {},
   "source": [
    "# MNIST"
   ]
  },
  {
   "cell_type": "code",
   "execution_count": null,
   "metadata": {},
   "outputs": [],
   "source": [
    "import sage\n",
    "import pickle"
   ]
  },
  {
   "cell_type": "code",
   "execution_count": null,
   "metadata": {},
   "outputs": [],
   "source": [
    "mnist_sage = sage.load('results/mnist_sage.pkl')"
   ]
  },
  {
   "cell_type": "code",
   "execution_count": null,
   "metadata": {},
   "outputs": [],
   "source": [
    "with open('results/mnist mean_importance.pkl', 'rb') as f:\n",
    "    mean_imp = pickle.load(f)"
   ]
  },
  {
   "cell_type": "code",
   "execution_count": null,
   "metadata": {},
   "outputs": [],
   "source": [
    "permutation = []\n",
    "for i in range(1024):\n",
    "    filename = 'results/mnist permutation_test {}.pkl'.format(i)\n",
    "    with open(filename, 'rb') as f:\n",
    "        permutation.append(pickle.load(f)['scores'])\n",
    "permutation = np.array(permutation).mean(axis=0)"
   ]
  },
  {
   "cell_type": "code",
   "execution_count": null,
   "metadata": {},
   "outputs": [],
   "source": [
    "with open('results/mnist feature_ablation.pkl', 'rb') as f:\n",
    "    ablation = pickle.load(f)"
   ]
  },
  {
   "cell_type": "code",
   "execution_count": null,
   "metadata": {},
   "outputs": [],
   "source": [
    "with open('results/mnist univariate.pkl', 'rb') as f:\n",
    "    univariate = pickle.load(f)"
   ]
  },
  {
   "cell_type": "code",
   "execution_count": null,
   "metadata": {},
   "outputs": [],
   "source": [
    "mnist_results = (mnist_sage, permutation, mean_imp, ablation, univariate)\n",
    "mnist_names = ('SAGE', 'Permutation Test', 'Mean Importance', 'Feature Ablation', 'Univariate Predictors')"
   ]
  },
  {
   "cell_type": "code",
   "execution_count": null,
   "metadata": {},
   "outputs": [],
   "source": [
    "fig, axarr = plt.subplots(1, len(mnist_results), figsize=(16, 6))\n",
    "\n",
    "for i, (result, name) in enumerate(zip(mnist_results, mnist_names)):\n",
    "    ax = axarr[i]\n",
    "    plt.sca(ax)\n",
    "    if isinstance(result, np.ndarray):\n",
    "        # Regular values\n",
    "        values = result\n",
    "    else:\n",
    "        # SAGE\n",
    "        values = result.values\n",
    "        \n",
    "    m = np.max(np.abs(values))\n",
    "    plt.imshow(np.reshape(- values, (28, 28)), cmap='seismic', vmin=-m, vmax=m)\n",
    "    plt.grid(False)\n",
    "    plt.xticks([])\n",
    "    plt.yticks([])\n",
    "    plt.title(name, fontsize=20)\n",
    "\n",
    "plt.tight_layout()\n",
    "# plt.show()\n",
    "plt.savefig('figures/mnist_sage.pdf')"
   ]
  },
  {
   "cell_type": "code",
   "execution_count": null,
   "metadata": {},
   "outputs": [],
   "source": []
  }
 ],
 "metadata": {
  "kernelspec": {
   "display_name": "Python 3",
   "language": "python",
   "name": "python3"
  },
  "language_info": {
   "codemirror_mode": {
    "name": "ipython",
    "version": 3
   },
   "file_extension": ".py",
   "mimetype": "text/x-python",
   "name": "python",
   "nbconvert_exporter": "python",
   "pygments_lexer": "ipython3",
   "version": "3.6.8"
  }
 },
 "nbformat": 4,
 "nbformat_minor": 4
}
