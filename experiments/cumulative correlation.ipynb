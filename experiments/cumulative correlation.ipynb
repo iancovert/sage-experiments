{
 "cells": [
  {
   "cell_type": "markdown",
   "metadata": {},
   "source": [
    "# Bank"
   ]
  },
  {
   "cell_type": "code",
   "execution_count": null,
   "metadata": {},
   "outputs": [],
   "source": [
    "import sage\n",
    "import pickle\n",
    "import numpy as np"
   ]
  },
  {
   "cell_type": "code",
   "execution_count": null,
   "metadata": {},
   "outputs": [],
   "source": [
    "sage_values = sage.load('results/bank_sage.pkl')"
   ]
  },
  {
   "cell_type": "code",
   "execution_count": null,
   "metadata": {},
   "outputs": [],
   "source": [
    "permutation = []\n",
    "for i in range(512):\n",
    "    filename = 'results/bank permutation_test {}.pkl'.format(i)\n",
    "    with open(filename, 'rb') as f:\n",
    "        permutation.append(pickle.load(f)['scores'])\n",
    "permutation = np.array(permutation).mean(axis=0)"
   ]
  },
  {
   "cell_type": "code",
   "execution_count": null,
   "metadata": {},
   "outputs": [],
   "source": [
    "with open('results/bank feature_ablation.pkl', 'rb') as f:\n",
    "    ablation = pickle.load(f)"
   ]
  },
  {
   "cell_type": "code",
   "execution_count": null,
   "metadata": {},
   "outputs": [],
   "source": [
    "with open('results/bank univariate.pkl', 'rb') as f:\n",
    "    univariate = pickle.load(f)"
   ]
  },
  {
   "cell_type": "code",
   "execution_count": null,
   "metadata": {},
   "outputs": [],
   "source": [
    "with open('results/bank cumulative_correlation.pkl', 'rb') as f:\n",
    "    subsets_dict = pickle.load(f)\n",
    "subsets = np.array(subsets_dict['subsets']).astype(float)\n",
    "loss = subsets_dict['loss']"
   ]
  },
  {
   "cell_type": "code",
   "execution_count": null,
   "metadata": {},
   "outputs": [],
   "source": [
    "importance = (sage_values.values, permutation, ablation, univariate)\n",
    "names = ('SAGE', 'Permutation Test', 'Feature Ablation', 'Univariate')\n",
    "bank_results = {name: {'values': imp} for (imp, name) in zip(importance, names)}"
   ]
  },
  {
   "cell_type": "code",
   "execution_count": null,
   "metadata": {},
   "outputs": [],
   "source": [
    "for name in names:\n",
    "    values = bank_results[name]['values']\n",
    "    proxy = np.sum(subsets * values, axis=1)\n",
    "    bank_results[name]['corr'] = - np.corrcoef(proxy, loss)[0, 1]"
   ]
  },
  {
   "cell_type": "code",
   "execution_count": null,
   "metadata": {},
   "outputs": [],
   "source": [
    "for name in bank_results.keys():\n",
    "    print(name, bank_results[name]['corr'])"
   ]
  },
  {
   "cell_type": "markdown",
   "metadata": {},
   "source": [
    "# Bike"
   ]
  },
  {
   "cell_type": "code",
   "execution_count": null,
   "metadata": {},
   "outputs": [],
   "source": [
    "sage_values = sage.load('results/bike_sage.pkl')"
   ]
  },
  {
   "cell_type": "code",
   "execution_count": null,
   "metadata": {},
   "outputs": [],
   "source": [
    "with open('results/bike mean_importance.pkl', 'rb') as f:\n",
    "    mean_imp = pickle.load(f)"
   ]
  },
  {
   "cell_type": "code",
   "execution_count": null,
   "metadata": {},
   "outputs": [],
   "source": [
    "permutation = []\n",
    "for i in range(512):\n",
    "    filename = 'results/bike permutation_test {}.pkl'.format(i)\n",
    "    with open(filename, 'rb') as f:\n",
    "        permutation.append(pickle.load(f)['scores'])\n",
    "permutation = np.array(permutation).mean(axis=0)"
   ]
  },
  {
   "cell_type": "code",
   "execution_count": null,
   "metadata": {},
   "outputs": [],
   "source": [
    "with open('results/bike feature_ablation.pkl', 'rb') as f:\n",
    "    ablation = pickle.load(f)"
   ]
  },
  {
   "cell_type": "code",
   "execution_count": null,
   "metadata": {},
   "outputs": [],
   "source": [
    "with open('results/bike univariate.pkl', 'rb') as f:\n",
    "    univariate = pickle.load(f)"
   ]
  },
  {
   "cell_type": "code",
   "execution_count": null,
   "metadata": {},
   "outputs": [],
   "source": [
    "with open('results/bike cumulative_correlation.pkl', 'rb') as f:\n",
    "    subsets_dict = pickle.load(f)\n",
    "subsets = np.array(subsets_dict['subsets']).astype(float)\n",
    "loss = subsets_dict['loss']"
   ]
  },
  {
   "cell_type": "code",
   "execution_count": null,
   "metadata": {},
   "outputs": [],
   "source": [
    "importance = (sage_values.values, permutation, mean_imp, ablation, univariate)\n",
    "names = ('SAGE', 'Permutation Test', 'Mean Importance', 'Feature Ablation', 'Univariate')\n",
    "bike_results = {name: {'values': imp} for (imp, name) in zip(importance, names)}"
   ]
  },
  {
   "cell_type": "code",
   "execution_count": null,
   "metadata": {},
   "outputs": [],
   "source": [
    "for name in names:\n",
    "    values = bike_results[name]['values']\n",
    "    proxy = np.sum(subsets * values, axis=1)\n",
    "    bike_results[name]['corr'] = - np.corrcoef(proxy, loss)[0, 1]"
   ]
  },
  {
   "cell_type": "code",
   "execution_count": null,
   "metadata": {},
   "outputs": [],
   "source": [
    "for name in bike_results.keys():\n",
    "    print(name, bike_results[name]['corr'])"
   ]
  },
  {
   "cell_type": "markdown",
   "metadata": {},
   "source": [
    "# Credit"
   ]
  },
  {
   "cell_type": "code",
   "execution_count": null,
   "metadata": {},
   "outputs": [],
   "source": [
    "sage_values = sage.load('results/credit_sage.pkl')"
   ]
  },
  {
   "cell_type": "code",
   "execution_count": null,
   "metadata": {},
   "outputs": [],
   "source": [
    "permutation = []\n",
    "for i in range(512):\n",
    "    filename = 'results/credit permutation_test {}.pkl'.format(i)\n",
    "    with open(filename, 'rb') as f:\n",
    "        permutation.append(pickle.load(f)['scores'])\n",
    "permutation = np.array(permutation).mean(axis=0)"
   ]
  },
  {
   "cell_type": "code",
   "execution_count": null,
   "metadata": {},
   "outputs": [],
   "source": [
    "with open('results/credit feature_ablation.pkl', 'rb') as f:\n",
    "    ablation = pickle.load(f)"
   ]
  },
  {
   "cell_type": "code",
   "execution_count": null,
   "metadata": {},
   "outputs": [],
   "source": [
    "with open('results/credit univariate.pkl', 'rb') as f:\n",
    "    univariate = pickle.load(f)"
   ]
  },
  {
   "cell_type": "code",
   "execution_count": null,
   "metadata": {},
   "outputs": [],
   "source": [
    "with open('results/credit cumulative_correlation.pkl', 'rb') as f:\n",
    "    subsets_dict = pickle.load(f)\n",
    "subsets = np.array(subsets_dict['subsets']).astype(float)\n",
    "loss = subsets_dict['loss']"
   ]
  },
  {
   "cell_type": "code",
   "execution_count": null,
   "metadata": {},
   "outputs": [],
   "source": [
    "importance = (sage_values.values, permutation, ablation, univariate)\n",
    "names = ('SAGE', 'Permutation Test', 'Feature Ablation', 'Univariate')\n",
    "credit_results = {name: {'values': imp} for (imp, name) in zip(importance, names)}"
   ]
  },
  {
   "cell_type": "code",
   "execution_count": null,
   "metadata": {},
   "outputs": [],
   "source": [
    "for name in names:\n",
    "    values = credit_results[name]['values']\n",
    "    proxy = np.sum(subsets * values, axis=1)\n",
    "    credit_results[name]['corr'] = - np.corrcoef(proxy, loss)[0, 1]"
   ]
  },
  {
   "cell_type": "code",
   "execution_count": null,
   "metadata": {},
   "outputs": [],
   "source": [
    "for name in credit_results.keys():\n",
    "    print(name, credit_results[name]['corr'])"
   ]
  },
  {
   "cell_type": "markdown",
   "metadata": {},
   "source": [
    "# BRCA"
   ]
  },
  {
   "cell_type": "code",
   "execution_count": null,
   "metadata": {},
   "outputs": [],
   "source": [
    "sage_values = sage.load('results/brca_sage.pkl')"
   ]
  },
  {
   "cell_type": "code",
   "execution_count": null,
   "metadata": {},
   "outputs": [],
   "source": [
    "with open('results/brca mean_importance.pkl', 'rb') as f:\n",
    "    mean_imp = pickle.load(f)"
   ]
  },
  {
   "cell_type": "code",
   "execution_count": null,
   "metadata": {},
   "outputs": [],
   "source": [
    "permutation = []\n",
    "for i in range(512):\n",
    "    filename = 'results/brca permutation_test {}.pkl'.format(i)\n",
    "    with open(filename, 'rb') as f:\n",
    "        permutation.append(pickle.load(f)['scores'])\n",
    "permutation = np.array(permutation).mean(axis=0)"
   ]
  },
  {
   "cell_type": "code",
   "execution_count": null,
   "metadata": {},
   "outputs": [],
   "source": [
    "with open('results/brca feature_ablation.pkl', 'rb') as f:\n",
    "    ablation = pickle.load(f)"
   ]
  },
  {
   "cell_type": "code",
   "execution_count": null,
   "metadata": {},
   "outputs": [],
   "source": [
    "with open('results/brca univariate.pkl', 'rb') as f:\n",
    "    univariate = pickle.load(f)"
   ]
  },
  {
   "cell_type": "code",
   "execution_count": null,
   "metadata": {},
   "outputs": [],
   "source": [
    "with open('results/brca cumulative_correlation.pkl', 'rb') as f:\n",
    "    subsets_dict = pickle.load(f)\n",
    "subsets = np.array(subsets_dict['subsets']).astype(float)\n",
    "loss = subsets_dict['loss']"
   ]
  },
  {
   "cell_type": "code",
   "execution_count": null,
   "metadata": {},
   "outputs": [],
   "source": [
    "importance = (sage_values.values, permutation, mean_imp, ablation, univariate)\n",
    "names = ('SAGE', 'Permutation Test', 'Mean Importance', 'Feature Ablation', 'Univariate')\n",
    "brca_results = {name: {'values': imp} for (imp, name) in zip(importance, names)}"
   ]
  },
  {
   "cell_type": "code",
   "execution_count": null,
   "metadata": {},
   "outputs": [],
   "source": [
    "for name in names:\n",
    "    values = brca_results[name]['values']\n",
    "    proxy = np.sum(subsets * values, axis=1)\n",
    "    brca_results[name]['corr'] = - np.corrcoef(proxy, loss)[0, 1]"
   ]
  },
  {
   "cell_type": "code",
   "execution_count": null,
   "metadata": {},
   "outputs": [],
   "source": [
    "for name in brca_results.keys():\n",
    "    print(name, brca_results[name]['corr'])"
   ]
  },
  {
   "cell_type": "markdown",
   "metadata": {},
   "source": [
    "# MNIST"
   ]
  },
  {
   "cell_type": "code",
   "execution_count": null,
   "metadata": {},
   "outputs": [],
   "source": [
    "sage_values = sage.load('results/mnist_sage.pkl')"
   ]
  },
  {
   "cell_type": "code",
   "execution_count": null,
   "metadata": {},
   "outputs": [],
   "source": [
    "with open('results/mnist mean_importance.pkl', 'rb') as f:\n",
    "    mean_imp = pickle.load(f)"
   ]
  },
  {
   "cell_type": "code",
   "execution_count": null,
   "metadata": {},
   "outputs": [],
   "source": [
    "permutation = []\n",
    "for i in range(512):\n",
    "    filename = 'results/mnist permutation_test {}.pkl'.format(i)\n",
    "    with open(filename, 'rb') as f:\n",
    "        permutation.append(pickle.load(f)['scores'])\n",
    "permutation = np.array(permutation).mean(axis=0)"
   ]
  },
  {
   "cell_type": "code",
   "execution_count": null,
   "metadata": {},
   "outputs": [],
   "source": [
    "with open('results/mnist feature_ablation.pkl', 'rb') as f:\n",
    "    ablation = pickle.load(f)"
   ]
  },
  {
   "cell_type": "code",
   "execution_count": null,
   "metadata": {},
   "outputs": [],
   "source": [
    "with open('results/mnist univariate.pkl', 'rb') as f:\n",
    "    univariate = pickle.load(f)"
   ]
  },
  {
   "cell_type": "code",
   "execution_count": null,
   "metadata": {},
   "outputs": [],
   "source": [
    "with open('results/mnist cumulative_correlation.pkl', 'rb') as f:\n",
    "    subsets_dict = pickle.load(f)\n",
    "subsets = np.array(subsets_dict['subsets']).astype(float)\n",
    "loss = subsets_dict['loss']"
   ]
  },
  {
   "cell_type": "code",
   "execution_count": null,
   "metadata": {},
   "outputs": [],
   "source": [
    "importance = (sage_values.values, permutation, mean_imp, ablation, univariate)\n",
    "names = ('SAGE', 'Permutation Test', 'Mean Importance', 'Feature Ablation', 'Univariate')\n",
    "mnist_results = {name: {'values': imp} for (imp, name) in zip(importance, names)}"
   ]
  },
  {
   "cell_type": "code",
   "execution_count": null,
   "metadata": {},
   "outputs": [],
   "source": [
    "for name in names:\n",
    "    values = mnist_results[name]['values']\n",
    "    proxy = np.sum(subsets * values, axis=1)\n",
    "    mnist_results[name]['corr'] = - np.corrcoef(proxy, loss)[0, 1]"
   ]
  },
  {
   "cell_type": "code",
   "execution_count": null,
   "metadata": {},
   "outputs": [],
   "source": [
    "for name in mnist_results.keys():\n",
    "    print(name, mnist_results[name]['corr'])"
   ]
  },
  {
   "cell_type": "markdown",
   "metadata": {},
   "source": [
    "# Combined table"
   ]
  },
  {
   "cell_type": "code",
   "execution_count": null,
   "metadata": {},
   "outputs": [],
   "source": [
    "dset_list = ('Bank Marketing', 'Bike Demand', 'Credit Quality', 'BRCA', 'MNIST')\n",
    "print(' & ' + ' & '.join(['\\\\textsc{{{}}}'.format(dset) for dset in dset_list]) + ' \\\\\\\\')\n",
    "print('\\\\midrule')\n",
    "for name in name_list:\n",
    "    line = [name]\n",
    "    for dataset in (bank_results, bike_results, credit_results, brca_results, mnist_results):\n",
    "        if name in dataset:\n",
    "            line.append('{:.4f}'.format(dataset[name]['corr']))\n",
    "        else:\n",
    "            line.append(' -- ')\n",
    "    print(' & '.join(line) + ' \\\\\\\\')"
   ]
  },
  {
   "cell_type": "code",
   "execution_count": null,
   "metadata": {},
   "outputs": [],
   "source": []
  }
 ],
 "metadata": {
  "kernelspec": {
   "display_name": "Python 3",
   "language": "python",
   "name": "python3"
  },
  "language_info": {
   "codemirror_mode": {
    "name": "ipython",
    "version": 3
   },
   "file_extension": ".py",
   "mimetype": "text/x-python",
   "name": "python",
   "nbconvert_exporter": "python",
   "pygments_lexer": "ipython3",
   "version": "3.6.8"
  }
 },
 "nbformat": 4,
 "nbformat_minor": 4
}
