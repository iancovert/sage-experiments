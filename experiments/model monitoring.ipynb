{
 "cells": [
  {
   "cell_type": "markdown",
   "metadata": {},
   "source": [
    "# Load data"
   ]
  },
  {
   "cell_type": "code",
   "execution_count": null,
   "metadata": {},
   "outputs": [],
   "source": [
    "import sage\n",
    "from sklearn.model_selection import train_test_split"
   ]
  },
  {
   "cell_type": "code",
   "execution_count": null,
   "metadata": {},
   "outputs": [],
   "source": [
    "# Load data\n",
    "df = sage.datasets.bank()\n",
    "\n",
    "# Feature names and categorical columns (for CatBoost model)\n",
    "feature_names = df.columns.tolist()[:-1]\n",
    "categorical_cols = ['Job', 'Marital', 'Education', 'Default', 'Housing',\n",
    "                    'Loan', 'Contact', 'Month', 'Prev Outcome']\n",
    "categorical_inds = [feature_names.index(col) for col in categorical_cols]"
   ]
  },
  {
   "cell_type": "code",
   "execution_count": null,
   "metadata": {},
   "outputs": [],
   "source": [
    "# Split data\n",
    "train, test = train_test_split(\n",
    "    df.values, test_size=int(0.1 * len(df.values)), random_state=123)\n",
    "train, val = train_test_split(\n",
    "    train, test_size=int(0.1 * len(df.values)), random_state=123)\n",
    "Y_train = train[:, -1].copy().astype(int)\n",
    "Y_val = val[:, -1].copy().astype(int)\n",
    "Y_test = test[:, -1].copy().astype(int)\n",
    "train = train[:, :-1].copy()\n",
    "val = val[:, :-1].copy()\n",
    "test = test[:, :-1].copy()"
   ]
  },
  {
   "cell_type": "markdown",
   "metadata": {},
   "source": [
    "# Load model"
   ]
  },
  {
   "cell_type": "code",
   "execution_count": null,
   "metadata": {},
   "outputs": [],
   "source": [
    "import pickle\n",
    "from catboost import CatBoostClassifier"
   ]
  },
  {
   "cell_type": "code",
   "execution_count": null,
   "metadata": {},
   "outputs": [],
   "source": [
    "with open('trained_models/bank model.pkl', 'rb') as f:\n",
    "    model = pickle.load(f)"
   ]
  },
  {
   "cell_type": "markdown",
   "metadata": {},
   "source": [
    "# Perturbed data"
   ]
  },
  {
   "cell_type": "code",
   "execution_count": null,
   "metadata": {},
   "outputs": [],
   "source": [
    "import numpy as np\n",
    "from sklearn.metrics import log_loss\n",
    "import matplotlib.pyplot as plt"
   ]
  },
  {
   "cell_type": "code",
   "execution_count": null,
   "metadata": {},
   "outputs": [],
   "source": [
    "# Convert duration to seconds\n",
    "test_seconds = test.copy()\n",
    "duration_index = feature_names.index('Duration')\n",
    "test_seconds[:, duration_index] = test_seconds[:, duration_index] * 60\n",
    "\n",
    "# Convert duration to hours\n",
    "test_hours = test.copy()\n",
    "test_hours[:, duration_index] = test_hours[:, duration_index] / 60\n",
    "\n",
    "# Shift months by one\n",
    "test_month = test.copy()\n",
    "month_index = feature_names.index('Month')\n",
    "months = ['jan', 'feb', 'mar', 'apr', 'may', 'jun',\n",
    "          'jul', 'aug', 'sep', 'oct', 'nov', 'dec']\n",
    "test_month[:, month_index] = list(\n",
    "    map(lambda x: months[(months.index(x) + 1) % 12],\n",
    "        test_month[:, month_index]))"
   ]
  },
  {
   "cell_type": "code",
   "execution_count": null,
   "metadata": {},
   "outputs": [],
   "source": [
    "# Calculate performance\n",
    "p = np.array([np.sum(Y_train == i) for i in np.unique(Y_train)]) / len(Y_train)\n",
    "base_ce = log_loss(Y_test, p[np.newaxis].repeat(len(test), 0))\n",
    "train_ce = log_loss(Y_train, model.predict_proba(train))\n",
    "val_ce = log_loss(Y_val, model.predict_proba(val))\n",
    "test_ce = log_loss(Y_test, model.predict_proba(test))\n",
    "seconds_ce = log_loss(Y_test, model.predict_proba(test_seconds))\n",
    "hours_ce = log_loss(Y_test, model.predict_proba(test_hours))\n",
    "month_ce = log_loss(Y_test, model.predict_proba(test_month))\n",
    "\n",
    "# Plot\n",
    "plt.figure(figsize=(8, 6))\n",
    "plt.bar(np.arange(6), [base_ce, train_ce, val_ce, seconds_ce, hours_ce, month_ce],\n",
    "        color=['tab:blue', 'tab:cyan', 'tab:purple', 'crimson', 'firebrick', 'indianred'])\n",
    "\n",
    "ax = plt.gca()\n",
    "for i, ce in enumerate([base_ce, train_ce, val_ce, seconds_ce, hours_ce, month_ce]):\n",
    "    ax.text(i - 0.25, ce + 0.007, '{:.3f}'.format(ce), fontsize=16)\n",
    "    \n",
    "plt.ylim(0, 0.94)\n",
    "\n",
    "plt.xticks(np.arange(6),\n",
    "           ['Base Rate', 'Train', 'Validation', r'Duration $\\rightarrow$ Secs',\n",
    "            r'Duration $\\rightarrow$ Hours', r'Month $\\rightarrow$ + 1'],\n",
    "           rotation=45, rotation_mode='anchor', ha='right')\n",
    "\n",
    "plt.tick_params(labelsize=16)\n",
    "plt.ylabel('Cross Entropy Loss', fontsize=18)\n",
    "plt.title('Loss Comparison', fontsize=20)\n",
    "\n",
    "plt.tight_layout()\n",
    "plt.show()"
   ]
  },
  {
   "cell_type": "markdown",
   "metadata": {},
   "source": [
    "# Generate explanations"
   ]
  },
  {
   "cell_type": "code",
   "execution_count": null,
   "metadata": {},
   "outputs": [],
   "source": [
    "# Setup and calculate\n",
    "imputer = sage.MarginalImputer(model, train[:512])\n",
    "estimator = sage.PermutationEstimator(imputer, 'cross entropy')\n",
    "sage_val = estimator(val, Y_val, thresh=0.01)\n",
    "sage_seconds = estimator(test_seconds, Y_test, thresh=0.01)\n",
    "sage_hours = estimator(test_hours, Y_test, thresh=0.01)\n",
    "sage_month = estimator(test_month, Y_test, thresh=0.01)"
   ]
  },
  {
   "cell_type": "code",
   "execution_count": null,
   "metadata": {},
   "outputs": [],
   "source": [
    "# Save\n",
    "sage_val.save('results/bank_sage_val.pkl')\n",
    "sage_seconds.save('results/bank_sage_seconds.pkl')\n",
    "sage_hours.save('results/bank_sage_hours.pkl')\n",
    "sage_month.save('results/bank_sage_month.pkl')"
   ]
  },
  {
   "cell_type": "markdown",
   "metadata": {},
   "source": [
    "# Plot"
   ]
  },
  {
   "cell_type": "code",
   "execution_count": null,
   "metadata": {},
   "outputs": [],
   "source": [
    "# Load\n",
    "sage_val = sage.load('results/bank_sage_val.pkl')\n",
    "sage_seconds = sage.load('results/bank_sage_seconds.pkl')\n",
    "sage_hours = sage.load('results/bank_sage_hours.pkl')\n",
    "sage_month = sage.load('results/bank_sage_month.pkl')"
   ]
  },
  {
   "cell_type": "code",
   "execution_count": null,
   "metadata": {},
   "outputs": [],
   "source": [
    "fig, axarr = plt.subplots(2, 2, figsize=(16, 10))\n",
    "\n",
    "# Performance comparison\n",
    "plt.sca(axarr[0, 0])\n",
    "plt.bar(np.arange(6), [base_ce, train_ce, val_ce, seconds_ce, hours_ce, month_ce],\n",
    "        color=['tab:blue', 'tab:cyan', 'tab:purple', 'crimson', 'firebrick', 'indianred'])\n",
    "ax = plt.gca()\n",
    "for i, ce in enumerate([base_ce, train_ce, val_ce, seconds_ce, hours_ce, month_ce]):\n",
    "    ax.text(i - 0.25, ce + 0.007, '{:.3f}'.format(ce), fontsize=16)\n",
    "plt.ylim(0, 0.97)\n",
    "plt.xticks(np.arange(6),\n",
    "           ['Base Rate', 'Train', 'Validation', r'Duration$\\rightarrow$Secs',\n",
    "            r'Duration$\\rightarrow$Hours', r'Month$\\rightarrow$+1'],\n",
    "           rotation=35, rotation_mode='anchor', ha='right')\n",
    "plt.tick_params(labelsize=16)\n",
    "plt.ylabel('Cross Entropy Loss', fontsize=18)\n",
    "plt.title('Loss Comparison', fontsize=20)\n",
    "\n",
    "# Order\n",
    "order = np.argsort(sage_val.values)[::-1]\n",
    "values = sage_val.values[order]\n",
    "std = sage_val.std[order]\n",
    "width = 0.4\n",
    "\n",
    "# Month\n",
    "ax = axarr[0, 1]\n",
    "plt.sca(ax)\n",
    "comp_values = sage_month.values[order]\n",
    "comp_std = sage_month.std[order]\n",
    "enumeration = enumerate(zip(\n",
    "    (values, comp_values),\n",
    "    (std, comp_std),\n",
    "    ('Validation', r'Month$\\rightarrow$+1'),\n",
    "    ('tab:purple', 'indianred')))\n",
    "for i, (sage_values, stddev, name, color) in enumeration:\n",
    "    pos = - 0.4 + width / 2 + width * i\n",
    "    ax.bar(np.arange(len(feature_names)) + pos,\n",
    "           sage_values, width=width, color=color, yerr=1.96*stddev,\n",
    "           capsize=4, label=name)\n",
    "plt.legend(loc='lower right', fontsize=18)\n",
    "plt.tick_params('y', labelsize=16)\n",
    "plt.ylabel('SAGE Values', fontsize=18)\n",
    "plt.xticks(np.arange(len(values)), np.array(feature_names)[order], rotation=45,\n",
    "           ha='right', rotation_mode='anchor', fontsize=16)\n",
    "plt.title('Detecting Corrupted Months', fontsize=20)\n",
    "\n",
    "# Seconds\n",
    "ax = axarr[1, 0]\n",
    "plt.sca(ax)\n",
    "comp_values = sage_seconds.values[order]\n",
    "comp_std = sage_seconds.std[order]\n",
    "enumeration = enumerate(zip(\n",
    "    (values, comp_values),\n",
    "    (std, comp_std),\n",
    "    ('Validation', r'Duration$\\rightarrow$Secs'),\n",
    "    ('tab:purple', 'crimson')))\n",
    "for i, (sage_values, stddev, name, color) in enumeration:\n",
    "    pos = - 0.4 + width / 2 + width * i\n",
    "    ax.bar(np.arange(len(feature_names)) + pos,\n",
    "           sage_values, width=width, color=color, yerr=1.96*stddev,\n",
    "           capsize=4, label=name)\n",
    "plt.legend(loc='lower right', fontsize=18)\n",
    "plt.tick_params('y', labelsize=16)\n",
    "plt.ylabel('SAGE Values', fontsize=18)\n",
    "plt.xticks(np.arange(len(values)), np.array(feature_names)[order], rotation=45,\n",
    "           ha='right', rotation_mode='anchor', fontsize=16)\n",
    "plt.title('Detecting Corrupted Duration (Seconds)', fontsize=20)\n",
    "\n",
    "\n",
    "# Hours\n",
    "ax = axarr[1, 1]\n",
    "plt.sca(ax)\n",
    "comp_values = sage_hours.values[order]\n",
    "comp_std = sage_hours.std[order]\n",
    "enumeration = enumerate(zip(\n",
    "    (values, comp_values),\n",
    "    (std, comp_std),\n",
    "    ('Validation', r'Duration$\\rightarrow$Hours'),\n",
    "    ('tab:purple', 'firebrick')))\n",
    "for i, (sage_values, stddev, name, color) in enumeration:\n",
    "    pos = - 0.4 + width / 2 + width * i\n",
    "    ax.bar(np.arange(len(feature_names)) + pos,\n",
    "           sage_values, width=width, color=color, yerr=1.96*stddev,\n",
    "           capsize=4, label=name)\n",
    "plt.legend(loc='lower right', fontsize=18)\n",
    "plt.tick_params('y', labelsize=16)\n",
    "plt.ylabel('SAGE Values', fontsize=18)\n",
    "plt.xticks(np.arange(len(values)), np.array(feature_names)[order], rotation=45,\n",
    "           ha='right', rotation_mode='anchor', fontsize=16)\n",
    "plt.title('Detecting Corrupted Duration (Hours)', fontsize=20)\n",
    "\n",
    "plt.tight_layout()\n",
    "# plt.show()\n",
    "plt.savefig('figures/model_monitoring.pdf')"
   ]
  },
  {
   "cell_type": "code",
   "execution_count": null,
   "metadata": {},
   "outputs": [],
   "source": []
  }
 ],
 "metadata": {
  "kernelspec": {
   "display_name": "Python 3",
   "language": "python",
   "name": "python3"
  },
  "language_info": {
   "codemirror_mode": {
    "name": "ipython",
    "version": 3
   },
   "file_extension": ".py",
   "mimetype": "text/x-python",
   "name": "python",
   "nbconvert_exporter": "python",
   "pygments_lexer": "ipython3",
   "version": "3.6.8"
  }
 },
 "nbformat": 4,
 "nbformat_minor": 4
}
