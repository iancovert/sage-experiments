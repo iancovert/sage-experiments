{
 "cells": [
  {
   "cell_type": "markdown",
   "metadata": {},
   "source": [
    "# Bank"
   ]
  },
  {
   "cell_type": "code",
   "execution_count": null,
   "metadata": {},
   "outputs": [],
   "source": [
    "import sage\n",
    "import pickle\n",
    "import numpy as np\n",
    "import matplotlib.pyplot as plt"
   ]
  },
  {
   "cell_type": "code",
   "execution_count": null,
   "metadata": {},
   "outputs": [],
   "source": [
    "sage_final = sage.load('results/bank_sage.pkl').values"
   ]
  },
  {
   "cell_type": "code",
   "execution_count": null,
   "metadata": {},
   "outputs": [],
   "source": [
    "with open('results/bank sage convergence.pkl', 'rb') as f:\n",
    "    sage_results = pickle.load(f)"
   ]
  },
  {
   "cell_type": "code",
   "execution_count": null,
   "metadata": {},
   "outputs": [],
   "source": [
    "with open('results/bank shap convergence.pkl', 'rb') as f:\n",
    "    shap_results = pickle.load(f)"
   ]
  },
  {
   "cell_type": "code",
   "execution_count": null,
   "metadata": {},
   "outputs": [],
   "source": [
    "num_average = 2 ** np.arange(10)\n",
    "tries = 5000\n",
    "sage_iters = num_average * sage_results['evals'] * sage_results['inner_samples']\n",
    "sage_mse = []\n",
    "sage_corr = []\n",
    "sage_mse_std = []\n",
    "sage_corr_std = []\n",
    "\n",
    "for num in num_average:\n",
    "    # Setup\n",
    "    mse = []\n",
    "    corr = []\n",
    "    \n",
    "    for it in range(tries):\n",
    "        inds = np.random.choice(len(sage_results['values']), size=num, replace=False)\n",
    "        vals = np.mean(sage_results['values'][inds], axis=0)\n",
    "        mse.append(np.sum((vals - sage_final) ** 2))\n",
    "        corr.append(np.corrcoef(vals, sage_final)[0, 1])\n",
    "        \n",
    "    # Save result\n",
    "    sage_mse.append(np.mean(mse))\n",
    "    sage_corr.append(np.mean(corr))\n",
    "    sage_mse_std.append(np.std(mse))\n",
    "    sage_corr_std.append(np.std(corr))"
   ]
  },
  {
   "cell_type": "code",
   "execution_count": null,
   "metadata": {},
   "outputs": [],
   "source": [
    "num_average = 2 ** np.arange(10)\n",
    "tries = 5000\n",
    "shap_iters = num_average * shap_results['evals'] * shap_results['inner_samples']\n",
    "shap_mse = []\n",
    "shap_corr = []\n",
    "shap_mse_std = []\n",
    "shap_corr_std = []\n",
    "\n",
    "for num in num_average:\n",
    "    # Setup\n",
    "    mse = []\n",
    "    corr = []\n",
    "    \n",
    "    for it in range(tries):\n",
    "        inds = np.random.choice(len(shap_results['values']), size=num, replace=False)\n",
    "        vals = np.mean(shap_results['values'][inds], axis=0)\n",
    "        mse.append(np.sum((vals - sage_final) ** 2))\n",
    "        corr.append(np.corrcoef(vals, sage_final)[0, 1])\n",
    "        \n",
    "    # Save result\n",
    "    shap_mse.append(np.mean(mse))\n",
    "    shap_corr.append(np.mean(corr))\n",
    "    shap_mse_std.append(np.std(mse))\n",
    "    shap_corr_std.append(np.std(corr))"
   ]
  },
  {
   "cell_type": "code",
   "execution_count": null,
   "metadata": {},
   "outputs": [],
   "source": [
    "fig, axarr = plt.subplots(1, 2, figsize=(16, 5.5))\n",
    "\n",
    "##### MSE ####\n",
    "ax = axarr[0]\n",
    "plt.sca(ax)\n",
    "\n",
    "plt.plot(sage_iters, sage_mse, label='SAGE', color='tab:pink',\n",
    "         marker='o')\n",
    "plt.plot(shap_iters, shap_mse, label='SHAP', color='tab:blue',\n",
    "         marker='o')\n",
    "\n",
    "plt.tick_params(labelsize=16)\n",
    "plt.legend(loc='upper left', fontsize=18, framealpha=1)\n",
    "plt.xlabel('Model Evaluations', fontsize=18)\n",
    "plt.ylabel('Mean Squared Error', fontsize=18)\n",
    "plt.title('Bank MSE Convergence', fontsize=20)\n",
    "plt.xscale('log')\n",
    "# plt.ylim(-0.025, 0.29)\n",
    "\n",
    "##### Correlation ####\n",
    "ax = axarr[1]\n",
    "plt.sca(ax)\n",
    "\n",
    "plt.plot(sage_iters, sage_corr, label='SAGE', color='tab:pink',\n",
    "         marker='o')\n",
    "plt.plot(shap_iters, shap_corr, label='SHAP', color='tab:blue',\n",
    "         marker='o')\n",
    "\n",
    "plt.tick_params(labelsize=16)\n",
    "plt.legend(loc='upper left', fontsize=18, framealpha=1)\n",
    "plt.xlabel('Model Evaluations', fontsize=18)\n",
    "plt.ylabel('Correlation', fontsize=18)\n",
    "plt.title('Bank Correlation Convergence', fontsize=20)\n",
    "plt.xscale('log')\n",
    "# plt.ylim(0.1, 1.1)\n",
    "\n",
    "plt.tight_layout()\n",
    "# plt.show()\n",
    "plt.savefig('figures/bank_convergence.pdf')"
   ]
  },
  {
   "cell_type": "markdown",
   "metadata": {},
   "source": [
    "# Bike"
   ]
  },
  {
   "cell_type": "code",
   "execution_count": null,
   "metadata": {},
   "outputs": [],
   "source": [
    "import sage\n",
    "import pickle\n",
    "import numpy as np\n",
    "import matplotlib.pyplot as plt"
   ]
  },
  {
   "cell_type": "code",
   "execution_count": null,
   "metadata": {},
   "outputs": [],
   "source": [
    "sage_final = sage.load('results/bike_sage.pkl').values"
   ]
  },
  {
   "cell_type": "code",
   "execution_count": null,
   "metadata": {},
   "outputs": [],
   "source": [
    "with open('results/bike sage convergence.pkl', 'rb') as f:\n",
    "    sage_results = pickle.load(f)"
   ]
  },
  {
   "cell_type": "code",
   "execution_count": null,
   "metadata": {},
   "outputs": [],
   "source": [
    "with open('results/bike shap convergence.pkl', 'rb') as f:\n",
    "    shap_results = pickle.load(f)"
   ]
  },
  {
   "cell_type": "code",
   "execution_count": null,
   "metadata": {},
   "outputs": [],
   "source": [
    "num_average = 2 ** np.arange(10)\n",
    "tries = 5000\n",
    "sage_iters = num_average * sage_results['evals'] * sage_results['inner_samples']\n",
    "sage_mse = []\n",
    "sage_corr = []\n",
    "sage_mse_std = []\n",
    "sage_corr_std = []\n",
    "\n",
    "for num in num_average:\n",
    "    # Setup\n",
    "    mse = []\n",
    "    corr = []\n",
    "    \n",
    "    for it in range(tries):\n",
    "        inds = np.random.choice(len(sage_results['values']), size=num, replace=False)\n",
    "        vals = np.mean(sage_results['values'][inds], axis=0)\n",
    "        mse.append(np.sum((vals - sage_final) ** 2))\n",
    "        corr.append(np.corrcoef(vals, sage_final)[0, 1])\n",
    "        \n",
    "    # Save result\n",
    "    sage_mse.append(np.mean(mse))\n",
    "    sage_corr.append(np.mean(corr))\n",
    "    sage_mse_std.append(np.std(mse))\n",
    "    sage_corr_std.append(np.std(corr))"
   ]
  },
  {
   "cell_type": "code",
   "execution_count": null,
   "metadata": {},
   "outputs": [],
   "source": [
    "num_average = 2 ** np.arange(10)\n",
    "tries = 5000\n",
    "shap_iters = num_average * shap_results['evals'] * shap_results['inner_samples']\n",
    "shap_mse = []\n",
    "shap_corr = []\n",
    "shap_mse_std = []\n",
    "shap_corr_std = []\n",
    "\n",
    "for num in num_average:\n",
    "    # Setup\n",
    "    mse = []\n",
    "    corr = []\n",
    "    \n",
    "    for it in range(tries):\n",
    "        inds = np.random.choice(len(shap_results['values']), size=num, replace=False)\n",
    "        vals = np.mean(shap_results['values'][inds], axis=0)\n",
    "        mse.append(np.sum((vals - sage_final) ** 2))\n",
    "        corr.append(np.corrcoef(vals, sage_final)[0, 1])\n",
    "        \n",
    "    # Save result\n",
    "    shap_mse.append(np.mean(mse))\n",
    "    shap_corr.append(np.mean(corr))\n",
    "    shap_mse_std.append(np.std(mse))\n",
    "    shap_corr_std.append(np.std(corr))"
   ]
  },
  {
   "cell_type": "code",
   "execution_count": null,
   "metadata": {},
   "outputs": [],
   "source": [
    "fig, axarr = plt.subplots(1, 2, figsize=(16, 5.5))\n",
    "\n",
    "##### MSE ####\n",
    "ax = axarr[0]\n",
    "plt.sca(ax)\n",
    "\n",
    "plt.plot(sage_iters, sage_mse, label='SAGE', color='tab:pink',\n",
    "         marker='o')\n",
    "plt.plot(shap_iters, shap_mse, label='SHAP', color='tab:blue',\n",
    "         marker='o')\n",
    "\n",
    "plt.tick_params(labelsize=16)\n",
    "plt.legend(loc='upper right', fontsize=18, framealpha=1)\n",
    "plt.xlabel('Model Evaluations', fontsize=18)\n",
    "plt.ylabel('Mean Squared Error', fontsize=18)\n",
    "plt.title('Bike MSE Convergence', fontsize=20)\n",
    "plt.xscale('log')\n",
    "# plt.ylim(-0.025, 0.29)\n",
    "\n",
    "##### Correlation ####\n",
    "ax = axarr[1]\n",
    "plt.sca(ax)\n",
    "\n",
    "plt.plot(sage_iters, sage_corr, label='SAGE', color='tab:pink',\n",
    "         marker='o')\n",
    "plt.plot(shap_iters, shap_corr, label='SHAP', color='tab:blue',\n",
    "         marker='o')\n",
    "\n",
    "plt.tick_params(labelsize=16)\n",
    "plt.legend(loc='lower right', fontsize=18, framealpha=1)\n",
    "plt.xlabel('Model Evaluations', fontsize=18)\n",
    "plt.ylabel('Correlation', fontsize=18)\n",
    "plt.title('Bike Correlation Convergence', fontsize=20)\n",
    "plt.xscale('log')\n",
    "# plt.ylim(0.1, 1.1)\n",
    "\n",
    "plt.tight_layout()\n",
    "# plt.show()\n",
    "plt.savefig('figures/bike_convergence.pdf')"
   ]
  },
  {
   "cell_type": "markdown",
   "metadata": {},
   "source": [
    "# Credit"
   ]
  },
  {
   "cell_type": "code",
   "execution_count": null,
   "metadata": {},
   "outputs": [],
   "source": [
    "import sage\n",
    "import pickle\n",
    "import numpy as np\n",
    "import matplotlib.pyplot as plt"
   ]
  },
  {
   "cell_type": "code",
   "execution_count": null,
   "metadata": {},
   "outputs": [],
   "source": [
    "sage_final = sage.load('results/credit_sage.pkl').values"
   ]
  },
  {
   "cell_type": "code",
   "execution_count": null,
   "metadata": {},
   "outputs": [],
   "source": [
    "with open('results/credit sage convergence.pkl', 'rb') as f:\n",
    "    sage_results = pickle.load(f)"
   ]
  },
  {
   "cell_type": "code",
   "execution_count": null,
   "metadata": {},
   "outputs": [],
   "source": [
    "with open('results/credit shap convergence.pkl', 'rb') as f:\n",
    "    shap_results = pickle.load(f)"
   ]
  },
  {
   "cell_type": "code",
   "execution_count": null,
   "metadata": {},
   "outputs": [],
   "source": [
    "num_average = 2 ** np.arange(10)\n",
    "tries = 5000\n",
    "sage_iters = num_average * sage_results['evals'] * sage_results['inner_samples']\n",
    "sage_mse = []\n",
    "sage_corr = []\n",
    "sage_mse_std = []\n",
    "sage_corr_std = []\n",
    "\n",
    "for num in num_average:\n",
    "    # Setup\n",
    "    mse = []\n",
    "    corr = []\n",
    "    \n",
    "    for it in range(tries):\n",
    "        inds = np.random.choice(len(sage_results['values']), size=num, replace=False)\n",
    "        vals = np.mean(sage_results['values'][inds], axis=0)\n",
    "        mse.append(np.sum((vals - sage_final) ** 2))\n",
    "        corr.append(np.corrcoef(vals, sage_final)[0, 1])\n",
    "        \n",
    "    # Save result\n",
    "    sage_mse.append(np.mean(mse))\n",
    "    sage_corr.append(np.mean(corr))\n",
    "    sage_mse_std.append(np.std(mse))\n",
    "    sage_corr_std.append(np.std(corr))"
   ]
  },
  {
   "cell_type": "code",
   "execution_count": null,
   "metadata": {},
   "outputs": [],
   "source": [
    "num_average = 2 ** np.arange(7)\n",
    "tries = 5000\n",
    "shap_iters = num_average * shap_results['evals'] * shap_results['inner_samples']\n",
    "shap_mse = []\n",
    "shap_corr = []\n",
    "shap_mse_std = []\n",
    "shap_corr_std = []\n",
    "\n",
    "for num in num_average:\n",
    "    # Setup\n",
    "    mse = []\n",
    "    corr = []\n",
    "    \n",
    "    for it in range(tries):\n",
    "        inds = np.random.choice(len(shap_results['values']), size=num, replace=False)\n",
    "        vals = np.mean(shap_results['values'][inds], axis=0)\n",
    "        mse.append(np.sum((vals - sage_final) ** 2))\n",
    "        corr.append(np.corrcoef(vals, sage_final)[0, 1])\n",
    "        \n",
    "    # Save result\n",
    "    shap_mse.append(np.mean(mse))\n",
    "    shap_corr.append(np.mean(corr))\n",
    "    shap_mse_std.append(np.std(mse))\n",
    "    shap_corr_std.append(np.std(corr))"
   ]
  },
  {
   "cell_type": "code",
   "execution_count": null,
   "metadata": {},
   "outputs": [],
   "source": [
    "fig, axarr = plt.subplots(1, 2, figsize=(16, 5.5))\n",
    "\n",
    "##### MSE ####\n",
    "ax = axarr[0]\n",
    "plt.sca(ax)\n",
    "\n",
    "plt.plot(sage_iters, sage_mse, label='SAGE', color='tab:pink',\n",
    "         marker='o')\n",
    "plt.plot(shap_iters, shap_mse, label='SHAP', color='tab:blue',\n",
    "         marker='o')\n",
    "\n",
    "plt.tick_params(labelsize=16)\n",
    "plt.legend(loc='upper right', fontsize=18, framealpha=1)\n",
    "plt.xlabel('Model Evaluations', fontsize=18)\n",
    "plt.ylabel('Mean Squared Error', fontsize=18)\n",
    "plt.title('Credit MSE Convergence', fontsize=20)\n",
    "plt.xscale('log')\n",
    "# plt.ylim(-0.025, 0.29)\n",
    "\n",
    "##### Correlation ####\n",
    "ax = axarr[1]\n",
    "plt.sca(ax)\n",
    "\n",
    "plt.plot(sage_iters, sage_corr, label='SAGE', color='tab:pink',\n",
    "         marker='o')\n",
    "plt.plot(shap_iters, shap_corr, label='SHAP', color='tab:blue',\n",
    "         marker='o')\n",
    "\n",
    "plt.tick_params(labelsize=16)\n",
    "plt.legend(loc='lower right', fontsize=18, framealpha=1)\n",
    "plt.xlabel('Model Evaluations', fontsize=18)\n",
    "plt.ylabel('Correlation', fontsize=18)\n",
    "plt.title('Credit Correlation Convergence', fontsize=20)\n",
    "plt.xscale('log')\n",
    "# plt.ylim(0.1, 1.1)\n",
    "\n",
    "plt.tight_layout()\n",
    "# plt.show()\n",
    "plt.savefig('figures/credit_convergence.pdf')"
   ]
  },
  {
   "cell_type": "code",
   "execution_count": null,
   "metadata": {},
   "outputs": [],
   "source": []
  }
 ],
 "metadata": {
  "kernelspec": {
   "display_name": "Python 3",
   "language": "python",
   "name": "python3"
  },
  "language_info": {
   "codemirror_mode": {
    "name": "ipython",
    "version": 3
   },
   "file_extension": ".py",
   "mimetype": "text/x-python",
   "name": "python",
   "nbconvert_exporter": "python",
   "pygments_lexer": "ipython3",
   "version": "3.6.8"
  }
 },
 "nbformat": 4,
 "nbformat_minor": 4
}
